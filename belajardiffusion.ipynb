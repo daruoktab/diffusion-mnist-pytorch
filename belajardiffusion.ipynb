{
 "cells": [
  {
   "cell_type": "code",
   "execution_count": null,
   "id": "b852677c",
   "metadata": {},
   "outputs": [],
   "source": [
    "import deepinv\n",
    "import torch\n",
    "from torchvision import datasets, transforms"
   ]
  },
  {
   "cell_type": "code",
   "execution_count": null,
   "id": "c6ed1356",
   "metadata": {},
   "outputs": [],
   "source": [
    "device = torch.device(\"cuda\" if torch.cuda.is_available() else \"cpu\")\n",
    "batch_size = 48\n",
    "image_size = 32\n",
    "\n",
    "transform = transforms.Compose(\n",
    "    [\n",
    "        transforms.Resize((image_size, image_size)),\n",
    "        transforms.ToTensor(),\n",
    "        transforms.Normalize((0.0,), (1.0,)),\n",
    "    ]\n",
    ")\n"
   ]
  },
  {
   "cell_type": "code",
   "execution_count": null,
   "id": "a7b11482",
   "metadata": {},
   "outputs": [],
   "source": [
    "train_loader = torch.utils.data.DataLoader(\n",
    "    datasets.MNIST(\n",
    "        root=\"./data\",\n",
    "        train=True,\n",
    "        download=True,\n",
    "        transform=transform,\n",
    "    ),\n",
    "    batch_size=batch_size,\n",
    "    shuffle=True,\n",
    ")"
   ]
  },
  {
   "cell_type": "code",
   "execution_count": null,
   "id": "12ebbec1",
   "metadata": {},
   "outputs": [],
   "source": [
    "lr = 1e-4\n",
    "epochs = 5\n",
    "\n",
    "model = deepinv.models.DiffUNet(\n",
    "    in_channels=1, \n",
    "    out_channels=1, \n",
    "    pretrained=None).to(device) # type: ignore\n",
    "optimizer = torch.optim.Adam(model.parameters(), lr=lr)\n",
    "mse = torch.nn.MSELoss()"
   ]
  },
  {
   "cell_type": "code",
   "execution_count": null,
   "id": "7fd97554",
   "metadata": {},
   "outputs": [],
   "source": [
    "beta_start = 1e-4\n",
    "beta_end = 0.02\n",
    "timesteps = 1000"
   ]
  },
  {
   "cell_type": "code",
   "execution_count": null,
   "id": "7583e24c",
   "metadata": {},
   "outputs": [],
   "source": [
    "betas = torch.linspace(beta_start, beta_end, timesteps, device=device)\n",
    "alphas = 1.0 - betas\n",
    "alphas_cumprod = torch.cumprod(alphas, dim=0)\n",
    "sqrt_alphas_cumprod = torch.sqrt(alphas_cumprod)\n",
    "sqrt_one_minus_alphas_cumprod = torch.sqrt(1.0 - alphas_cumprod)"
   ]
  },
  {
   "cell_type": "code",
   "execution_count": null,
   "id": "20cf3ccf",
   "metadata": {},
   "outputs": [],
   "source": [
    "for epoch in range(epochs):\n",
    "    print(f\"Epoch {epoch + 1}/{epochs}\")\n",
    "    model.train()\n",
    "    for data, _ in train_loader:\n",
    "        imgs = data.to(device)\n",
    "        noise = torch.randn_like(imgs)\n",
    "        t = torch.randint(0, timesteps, (imgs.size(0),), device=device)\n",
    "\n",
    "        noisy_imgs = (\n",
    "            sqrt_alphas_cumprod[t, None, None, None] * imgs +\n",
    "            sqrt_one_minus_alphas_cumprod[t, None, None, None] * noise\n",
    "        )\n",
    "        optimizer.zero_grad()\n",
    "        estimated_noise = model(noisy_imgs, t, type_t=\"timestep\")\n",
    "        loss = mse(estimated_noise, noise)\n",
    "        loss.backward()\n",
    "        optimizer.step()"
   ]
  },
  {
   "cell_type": "code",
   "execution_count": null,
   "id": "62724dad",
   "metadata": {},
   "outputs": [],
   "source": [
    "torch.save(\n",
    "    model.state_dict(), \n",
    "    \"trained_diffusion_model.pth\"\n",
    ")"
   ]
  }
 ],
 "metadata": {
  "kernelspec": {
   "display_name": "ai",
   "language": "python",
   "name": "python3"
  },
  "language_info": {
   "codemirror_mode": {
    "name": "ipython",
    "version": 3
   },
   "file_extension": ".py",
   "mimetype": "text/x-python",
   "name": "python",
   "nbconvert_exporter": "python",
   "pygments_lexer": "ipython3",
   "version": "3.12.9"
  }
 },
 "nbformat": 4,
 "nbformat_minor": 5
}
